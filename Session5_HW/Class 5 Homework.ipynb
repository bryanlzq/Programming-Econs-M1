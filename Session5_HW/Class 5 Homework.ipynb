{
 "cells": [
  {
   "cell_type": "code",
   "execution_count": 10,
   "metadata": {
    "collapsed": false
   },
   "outputs": [
    {
     "name": "stderr",
     "output_type": "stream",
     "text": [
      "Creating package 'Homework5Addition' in '/Users/bryanlim/Documents/SP/Programming-Econs-M1-/Session5_HW'\n",
      "No DESCRIPTION found. Creating with values:\n",
      "\n",
      "\n"
     ]
    },
    {
     "name": "stdout",
     "output_type": "stream",
     "text": [
      "Package: Homework5Addition\n",
      "Title: What the Package Does (one line, title case)\n",
      "Version: 0.0.0.9000\n",
      "Authors@R: person(\"First\", \"Last\", email = \"first.last@example.com\", role = c(\"aut\", \"cre\"))\n",
      "Description: What the package does (one paragraph).\n",
      "Depends: R (>= 3.3.1)\n",
      "License: What license is it under?\n",
      "Encoding: UTF-8\n",
      "LazyData: true\n"
     ]
    },
    {
     "name": "stderr",
     "output_type": "stream",
     "text": [
      "* Creating `Homework5Addition.Rproj` from template.\n",
      "* Adding `.Rproj.user`, `.Rhistory`, `.RData` to ./.gitignore\n"
     ]
    }
   ],
   "source": [
    "library(\"devtools\")\n",
    "# Change these to suit your needs\n",
    "dir <- '~/Documents/SP/Programming-Econs-M1-/Session5_HW'\n",
    "name <- 'Homework5Addition'\n",
    "\n",
    "# Create your package\n",
    "setwd(dir)\n",
    "create(name)"
   ]
  },
  {
   "cell_type": "code",
   "execution_count": 12,
   "metadata": {
    "collapsed": false
   },
   "outputs": [],
   "source": [
    "dir <- '~/Documents/SP/Programming-Econs-M1-/Session5_HW/'\n",
    "name <- 'Homework5Addition'\n",
    "dir.create(paste(paste(dir, name, sep=\"\"), \"man\", sep=\"/\"))"
   ]
  },
  {
   "cell_type": "code",
   "execution_count": 13,
   "metadata": {
    "collapsed": true
   },
   "outputs": [],
   "source": [
    "#' New function for the addition of 2 numbers\n",
    "\n",
    "additionfn <- function (a, b){\n",
    "    return(a + b)\n",
    "}"
   ]
  },
  {
   "cell_type": "code",
   "execution_count": 33,
   "metadata": {
    "collapsed": false
   },
   "outputs": [
    {
     "name": "stderr",
     "output_type": "stream",
     "text": [
      "Updating Homework5Addition documentation\n",
      "Loading Homework5Addition\n"
     ]
    }
   ],
   "source": [
    "setwd(paste(dir, name, sep=\"\"))\n",
    "document()"
   ]
  },
  {
   "cell_type": "code",
   "execution_count": 15,
   "metadata": {
    "collapsed": false
   },
   "outputs": [
    {
     "name": "stderr",
     "output_type": "stream",
     "text": [
      "Installing Homework5Addition\n",
      "'/Users/bryanlim/anaconda/lib/R/bin/R' --no-site-file --no-environ --no-save  \\\n",
      "  --no-restore --quiet CMD INSTALL  \\\n",
      "  '/Users/bryanlim/Documents/SP/Programming-Econs-M1-/Session5_HW/Homework5Addition'  \\\n",
      "  --library='/Users/bryanlim/anaconda/lib/R/library' --install-tests \n",
      "\n",
      "Reloading installed Homework5Addition\n"
     ]
    }
   ],
   "source": [
    "setwd(dir)\n",
    "install(name)"
   ]
  },
  {
   "cell_type": "code",
   "execution_count": 18,
   "metadata": {
    "collapsed": false
   },
   "outputs": [
    {
     "data": {
      "text/html": [
       "3"
      ],
      "text/latex": [
       "3"
      ],
      "text/markdown": [
       "3"
      ],
      "text/plain": [
       "[1] 3"
      ]
     },
     "metadata": {},
     "output_type": "display_data"
    }
   ],
   "source": [
    "additionfn(1,2)"
   ]
  }
 ],
 "metadata": {
  "anaconda-cloud": {},
  "kernelspec": {
   "display_name": "R",
   "language": "R",
   "name": "ir"
  },
  "language_info": {
   "codemirror_mode": "r",
   "file_extension": ".r",
   "mimetype": "text/x-r-source",
   "name": "R",
   "pygments_lexer": "r",
   "version": "3.3.1"
  }
 },
 "nbformat": 4,
 "nbformat_minor": 0
}
